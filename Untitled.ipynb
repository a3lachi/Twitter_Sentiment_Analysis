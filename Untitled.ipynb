{
 "cells": [
  {
   "cell_type": "code",
   "execution_count": 3,
   "id": "a50ef0a8",
   "metadata": {},
   "outputs": [],
   "source": [
    "from selenium import webdriver\n",
    "from selenium.webdriver.firefox.options import Options\n",
    "import time \n",
    "import threading\n",
    "import os \n",
    "from selenium.webdriver.common.by import By\n",
    "import pandas as pd\n",
    "import time "
   ]
  },
  {
   "cell_type": "code",
   "execution_count": 4,
   "id": "f927a29b",
   "metadata": {},
   "outputs": [],
   "source": [
    "def Bitina(driver) :\n",
    "    time.sleep(2)\n",
    "    try :\n",
    "        for i in range(10) : \n",
    "            driver.find_element(By.XPATH,\"/html/body/c-wiz/div/div/div/div[2]/div[1]/div[3]/div[1]/form[2]/div/div/button\").click()\n",
    "            time.sleep(0.4)\n",
    "    except :\n",
    "        pass"
   ]
  },
  {
   "cell_type": "code",
   "execution_count": 6,
   "id": "014dd271",
   "metadata": {},
   "outputs": [],
   "source": [
    "def GetTrendingVideos() :\n",
    "\n",
    "    options = Options()\n",
    "    options.headless = True\n",
    "    driver_trending = webdriver.Firefox(options=options)\n",
    "\n",
    "    driver_trending.get('https://www.youtube.com/feed/trending')\n",
    "\n",
    "    Bitina(driver_trending)\n",
    "\n",
    "    videos = driver_trending.find_element(By.ID,\"contents\")\n",
    "\n",
    "    vidz = videos.find_elements(By.XPATH,\"//div[@id='contents']//div[@id='grid-container']//a[@id='video-title']\")\n",
    "\n",
    "\n",
    "    Data = []\n",
    "\n",
    "    for video in vidz :\n",
    "    \tData.append([video.get_attribute('title'),video.get_attribute('href'),''])\n",
    "\n",
    "\n",
    "\n",
    "    df = pd.DataFrame(Data,columns=['Video','Link','Comments'])\n",
    "\n",
    "    print('Successfully scraped trending videos links.')\n",
    "    driver_trending.quit()\n",
    "\n",
    "    return df"
   ]
  },
  {
   "cell_type": "code",
   "execution_count": 7,
   "id": "2abba28e",
   "metadata": {},
   "outputs": [
    {
     "name": "stderr",
     "output_type": "stream",
     "text": [
      "/var/folders/ds/1gc2g5316rn11p6rh4jrhjvc0000gn/T/ipykernel_20762/2570874639.py:4: DeprecationWarning: headless property is deprecated, instead use add_argument('-headless')\n",
      "  options.headless = True\n"
     ]
    },
    {
     "name": "stdout",
     "output_type": "stream",
     "text": [
      "Successfully scraped trending videos links.\n"
     ]
    }
   ],
   "source": [
    "df = GetTrendingVideos()  "
   ]
  },
  {
   "cell_type": "code",
   "execution_count": 8,
   "id": "29351ae9",
   "metadata": {},
   "outputs": [
    {
     "data": {
      "text/html": [
       "<div>\n",
       "<style scoped>\n",
       "    .dataframe tbody tr th:only-of-type {\n",
       "        vertical-align: middle;\n",
       "    }\n",
       "\n",
       "    .dataframe tbody tr th {\n",
       "        vertical-align: top;\n",
       "    }\n",
       "\n",
       "    .dataframe thead th {\n",
       "        text-align: right;\n",
       "    }\n",
       "</style>\n",
       "<table border=\"1\" class=\"dataframe\">\n",
       "  <thead>\n",
       "    <tr style=\"text-align: right;\">\n",
       "      <th></th>\n",
       "      <th>Video</th>\n",
       "      <th>Link</th>\n",
       "      <th>Comments</th>\n",
       "    </tr>\n",
       "  </thead>\n",
       "  <tbody>\n",
       "    <tr>\n",
       "      <th>0</th>\n",
       "      <td>Résumé : Annecy climatise le Vélodrome et élim...</td>\n",
       "      <td>https://www.youtube.com/watch?v=RD2MrMT1gMk</td>\n",
       "      <td></td>\n",
       "    </tr>\n",
       "    <tr>\n",
       "      <th>1</th>\n",
       "      <td>LA FIN DE LA TEAM CROUTON ?!</td>\n",
       "      <td>https://www.youtube.com/watch?v=866EDPageH8</td>\n",
       "      <td></td>\n",
       "    </tr>\n",
       "    <tr>\n",
       "      <th>2</th>\n",
       "      <td>Djadja &amp; Dinaz | Freestyle Boosk'Alpha</td>\n",
       "      <td>https://www.youtube.com/watch?v=p5iicTxdt9E</td>\n",
       "      <td></td>\n",
       "    </tr>\n",
       "    <tr>\n",
       "      <th>3</th>\n",
       "      <td>30 FINS (presque) IMPOSSIBLE À TROUVER</td>\n",
       "      <td>https://www.youtube.com/watch?v=ibPSx6UuQ8s</td>\n",
       "      <td></td>\n",
       "    </tr>\n",
       "    <tr>\n",
       "      <th>4</th>\n",
       "      <td>OM Annecy  : L'ENORME COLERE des supporters ! ...</td>\n",
       "      <td>https://www.youtube.com/watch?v=dJNbERa3CiY</td>\n",
       "      <td></td>\n",
       "    </tr>\n",
       "  </tbody>\n",
       "</table>\n",
       "</div>"
      ],
      "text/plain": [
       "                                               Video  \\\n",
       "0  Résumé : Annecy climatise le Vélodrome et élim...   \n",
       "1                       LA FIN DE LA TEAM CROUTON ?!   \n",
       "2             Djadja & Dinaz | Freestyle Boosk'Alpha   \n",
       "3             30 FINS (presque) IMPOSSIBLE À TROUVER   \n",
       "4  OM Annecy  : L'ENORME COLERE des supporters ! ...   \n",
       "\n",
       "                                          Link Comments  \n",
       "0  https://www.youtube.com/watch?v=RD2MrMT1gMk           \n",
       "1  https://www.youtube.com/watch?v=866EDPageH8           \n",
       "2  https://www.youtube.com/watch?v=p5iicTxdt9E           \n",
       "3  https://www.youtube.com/watch?v=ibPSx6UuQ8s           \n",
       "4  https://www.youtube.com/watch?v=dJNbERa3CiY           "
      ]
     },
     "execution_count": 8,
     "metadata": {},
     "output_type": "execute_result"
    }
   ],
   "source": [
    "df.head(5)"
   ]
  },
  {
   "cell_type": "code",
   "execution_count": 9,
   "id": "6f66a4b5",
   "metadata": {},
   "outputs": [],
   "source": [
    "global Yt_data"
   ]
  },
  {
   "cell_type": "code",
   "execution_count": 10,
   "id": "597c25cd",
   "metadata": {},
   "outputs": [],
   "source": [
    "Yt_data = df"
   ]
  },
  {
   "cell_type": "code",
   "execution_count": 18,
   "id": "95e58c64",
   "metadata": {},
   "outputs": [],
   "source": [
    "def Handle() :\n",
    "    global Yt_data\n",
    "    global iki \n",
    "    try :\n",
    "        video = Yt_data.iloc[iki]['Link']\n",
    "        iki+=1\n",
    "    except :\n",
    "        video = []\n",
    "    return video "
   ]
  },
  {
   "cell_type": "code",
   "execution_count": 21,
   "id": "440e1b1d",
   "metadata": {},
   "outputs": [
    {
     "data": {
      "text/plain": [
       "'https://www.youtube.com/watch?v=RD2MrMT1gMk'"
      ]
     },
     "execution_count": 21,
     "metadata": {},
     "output_type": "execute_result"
    }
   ],
   "source": [
    "Handle()"
   ]
  },
  {
   "cell_type": "code",
   "execution_count": 20,
   "id": "6c40f59b",
   "metadata": {},
   "outputs": [],
   "source": [
    "iki=0\n",
    "global iki"
   ]
  },
  {
   "cell_type": "code",
   "execution_count": 23,
   "id": "b4485bc8",
   "metadata": {},
   "outputs": [],
   "source": [
    "Yt_data.iloc[iki]['Link']='hey'"
   ]
  },
  {
   "cell_type": "code",
   "execution_count": 24,
   "id": "f4aeab1e",
   "metadata": {},
   "outputs": [
    {
     "data": {
      "text/plain": [
       "'hey'"
      ]
     },
     "execution_count": 24,
     "metadata": {},
     "output_type": "execute_result"
    }
   ],
   "source": [
    "Yt_data.iloc[iki]['Link']"
   ]
  },
  {
   "cell_type": "code",
   "execution_count": null,
   "id": "c3a12a88",
   "metadata": {},
   "outputs": [],
   "source": []
  }
 ],
 "metadata": {
  "kernelspec": {
   "display_name": "Python 3 (ipykernel)",
   "language": "python",
   "name": "python3"
  },
  "language_info": {
   "codemirror_mode": {
    "name": "ipython",
    "version": 3
   },
   "file_extension": ".py",
   "mimetype": "text/x-python",
   "name": "python",
   "nbconvert_exporter": "python",
   "pygments_lexer": "ipython3",
   "version": "3.11.2"
  }
 },
 "nbformat": 4,
 "nbformat_minor": 5
}
